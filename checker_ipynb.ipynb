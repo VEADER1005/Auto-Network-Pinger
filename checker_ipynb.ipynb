{
 "cells": [
  {
   "cell_type": "code",
   "execution_count": null,
   "metadata": {},
   "outputs": [],
   "source": [
    "import pandas as pd"
   ]
  },
  {
   "cell_type": "code",
   "execution_count": null,
   "metadata": {},
   "outputs": [],
   "source": [
    "df = pd.read_excel(\"D:/Network/servers.xlsx\")\n",
    "df.columns\n",
    "\n",
    "col_IP = df.loc[:,\"IP\"].tolist()\n",
    "col_name = df.loc[:,\"Location\"].tolist()"
   ]
  },
  {
   "cell_type": "code",
   "execution_count": null,
   "metadata": {},
   "outputs": [],
   "source": [
    "print(col_IP , col_name)"
   ]
  },
  {
   "cell_type": "code",
   "execution_count": 4,
   "metadata": {},
   "outputs": [],
   "source": [
    "import os\n",
    "import pandas as pd\n",
    "import sys\n",
    "import time\n",
    "from threading import Thread\n",
    "from queue import Queue as qu\n",
    "from threading import Timer\n",
    "\n",
    "import tkinter as tk\n",
    "from tkinter import messagebox\n",
    "\n",
    "def start():\n",
    "    for file_name in file_list:\n",
    "        unrechable = []\n",
    "        rechable = []\n",
    "        if(not qu_main.empty()):\n",
    "                if(qu_main.get() == 'q'):\n",
    "                    qu_main.put('q')\n",
    "                    return\n",
    "        print(\"Processing:\"+file_name,end=\"\\n\")\n",
    "        open_file(file_name, rechable, unrechable)\n",
    "        if len(unrechable) > 0:\n",
    "            print(\"These IP from \" + file_name + \" are Unrechable:\")\n",
    "            for i in unrechable:\n",
    "                print(i,end=\"\\n\")\n",
    "            print(\"\")\n",
    "        else:\n",
    "            print(\"All IP's are Rechable from \" + file_name)\n",
    "    return\n",
    "\n",
    "\n",
    "def open_file(file_name, rechable, unrechable):\n",
    "    df = pd.read_excel(\"D:/Network/\"+file_name+\".xlsx\")\n",
    "    col_IP = df.loc[:, \"IP\"].tolist()\n",
    "    col_name = df.loc[:, \"Location\"].tolist()\n",
    "    check(col_IP, col_name, rechable, unrechable)\n",
    "    return\n",
    "\n",
    "\n",
    "def check(col_IP, col_name, rechable, unrechable):\n",
    "    for ip in range(len(col_IP)):\n",
    "        response = os.popen(f\"ping {col_IP[ip]} \").read()\n",
    "        if(\"Request timed out.\" or \"unreachable\") in response:\n",
    "            unrechable.append(str(col_IP[ip] + \" at \" + col_name[ip]))\n",
    "        else:\n",
    "            rechable.append(str(col_IP[ip] + \" at \" + col_name[ip]))\n",
    "    return\n",
    "\n",
    "def main1():\n",
    "    while(True):\n",
    "        x = 0\n",
    "        print(\"Script has started Execution\")\n",
    "        start()\n",
    "        while(x<20):\n",
    "            if(not qu_main.empty()):\n",
    "                if(qu_main.get() == 'q'):\n",
    "                    print(\"The Program will now QUIT\")\n",
    "                    return\n",
    "                else:\n",
    "                    print(\"sleep\")\n",
    "                    x+=1\n",
    "                    time.sleep(1)\n",
    "            else:\n",
    "                print(\"sleep\")\n",
    "                x+=1\n",
    "                time.sleep(1)\n",
    "        \n",
    "\n",
    "def wait_th2():\n",
    "    global th1_done\n",
    "    if(not th2.is_alive()):\n",
    "        print(\"The Program is ready to be shut Down\")\n",
    "        th1_done = True\n",
    "    else:\n",
    "        th1 = Timer(5, wait_th2)\n",
    "        th1.start()\n",
    "            \n",
    "\n",
    "def redirect_print(output):\n",
    "    text_output.insert(tk.END, output)\n",
    "    text_output.see(tk.END)\n",
    "\n",
    "\n",
    "\n",
    "def start_process():\n",
    "    global th2,th1\n",
    "    th1 = Timer(5, wait_th2)\n",
    "    th2 = Thread(target=main1)\n",
    "    th2.start()\n",
    "    global th1_done,th1_progress\n",
    "    th1_done = False\n",
    "    th1_progress = False\n",
    "    return \n",
    "\n",
    "def on_cancel():\n",
    "    global th1_progress\n",
    "    qu_main.put('q')\n",
    "    print(\"Execution canceled. Please wait while the script terminates\")\n",
    "    th1_progress = True\n",
    "    th1.start()\n",
    "\n",
    "\n",
    "def on_close():\n",
    "    if(not th1_done):\n",
    "        global th1_progress\n",
    "        if(messagebox.askokcancel(\"Quit\", \"Do you want to stop Execution?\")):\n",
    "            if(not th1_progress):\n",
    "                qu_main.put('q')\n",
    "                th1_progress = True\n",
    "                th1.start()\n",
    "            else:\n",
    "                print(\"Please wait for the script to End\")\n",
    "            return\n",
    "    else:\n",
    "        root.destroy()\n",
    "        return\n",
    "        \n",
    "        \n",
    "\n",
    "file_list = [\"ISP\",\"servers\"]\n",
    "\n",
    "if __name__ == '__main__':\n",
    "    \n",
    "    qu_main = qu()\n",
    "    root = tk.Tk()\n",
    "    root.title(\"Ping Script GUI\")\n",
    "    root.geometry(\"700x700\")\n",
    "\n",
    "    #set window color\n",
    "    root.configure(bg='white')\n",
    "\n",
    "    text_output = tk.Text(root, wrap=tk.WORD)\n",
    "    text_output.pack(fill=tk.BOTH, expand=True)\n",
    "\n",
    "    sys.stdout.write = redirect_print  # Redirect print statements to GUI\n",
    "\n",
    "    cancel_button = tk.Button(root, text=\"Cancel\", command=on_cancel )\n",
    "    cancel_button.place(x = 250 ,y = 470)\n",
    "    cancel_button.pack()\n",
    "    start_process()\n",
    "\n",
    "    root.protocol(\"WM_DELETE_WINDOW\", on_close)\n",
    "    root.mainloop()\n",
    "\n"
   ]
  },
  {
   "cell_type": "code",
   "execution_count": 6,
   "metadata": {},
   "outputs": [
    {
     "data": {
      "text/plain": [
       "False"
      ]
     },
     "execution_count": 6,
     "metadata": {},
     "output_type": "execute_result"
    }
   ],
   "source": [
    "th1.is_alive()"
   ]
  },
  {
   "cell_type": "code",
   "execution_count": 7,
   "metadata": {},
   "outputs": [
    {
     "data": {
      "text/plain": [
       "False"
      ]
     },
     "execution_count": 7,
     "metadata": {},
     "output_type": "execute_result"
    }
   ],
   "source": [
    "th2.is_alive()"
   ]
  }
 ],
 "metadata": {
  "kernelspec": {
   "display_name": "base",
   "language": "python",
   "name": "python3"
  },
  "language_info": {
   "codemirror_mode": {
    "name": "ipython",
    "version": 3
   },
   "file_extension": ".py",
   "mimetype": "text/x-python",
   "name": "python",
   "nbconvert_exporter": "python",
   "pygments_lexer": "ipython3",
   "version": "3.9.7"
  },
  "orig_nbformat": 4
 },
 "nbformat": 4,
 "nbformat_minor": 2
}
